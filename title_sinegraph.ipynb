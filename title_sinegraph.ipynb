{
  "nbformat": 4,
  "nbformat_minor": 0,
  "metadata": {
    "colab": {
      "provenance": []
    },
    "kernelspec": {
      "name": "python3",
      "display_name": "Python 3"
    },
    "language_info": {
      "name": "python"
    }
  },
  "cells": [
    {
      "cell_type": "markdown",
      "source": [
        "##09-04"
      ],
      "metadata": {
        "id": "wNGgN0GKdxDb"
      }
    },
    {
      "cell_type": "markdown",
      "source": [
        "###sine graph"
      ],
      "metadata": {
        "id": "O-eq9S6xeCs-"
      }
    },
    {
      "cell_type": "code",
      "source": [
        "import pylab as py\n",
        "\n",
        "x_deg = py.arange(-180, 180 +1)\n",
        "x_rad = py.deg2rad(x_deg)  #도를 라디안으로 변환, deg to rad\n",
        "y = py.sin(x_rad)\n",
        "\n",
        "py.plot(x_deg, y)\n",
        "\n",
        "py.xlabel('x(deg)')\n",
        "py.ylabel('sin(x)')\n",
        "py.grid(True)"
      ],
      "metadata": {
        "id": "YM0-hwVeeE7x"
      },
      "execution_count": null,
      "outputs": []
    },
    {
      "cell_type": "code",
      "source": [],
      "metadata": {
        "id": "XmRcA0WSiV4n"
      },
      "execution_count": null,
      "outputs": []
    }
  ]
}